{
  "nbformat": 4,
  "nbformat_minor": 0,
  "metadata": {
    "colab": {
      "name": "前処理アプリ.ipynb",
      "provenance": [],
      "mount_file_id": "1c_lvUoiEorrWYdrr73hbtl8KJe0r49Hg",
      "authorship_tag": "ABX9TyNgNp1+m2dEKl7Yb8PgBhUw",
      "include_colab_link": true
    },
    "kernelspec": {
      "name": "python3",
      "display_name": "Python 3"
    },
    "language_info": {
      "name": "python"
    }
  },
  "cells": [
    {
      "cell_type": "markdown",
      "metadata": {
        "id": "view-in-github",
        "colab_type": "text"
      },
      "source": [
        "<a href=\"https://colab.research.google.com/github/Yuma2/Lyrics-Conditioned-Neural-Melody-Generation/blob/master/%E5%89%8D%E5%87%A6%E7%90%86%E3%82%A2%E3%83%97%E3%83%AA.ipynb\" target=\"_parent\"><img src=\"https://colab.research.google.com/assets/colab-badge.svg\" alt=\"Open In Colab\"/></a>"
      ]
    },
    {
      "cell_type": "code",
      "source": [
        "from google.colab import drive\n",
        "drive.mount('/content/drive')"
      ],
      "metadata": {
        "id": "SsKPD2RCkuNF"
      },
      "execution_count": null,
      "outputs": []
    },
    {
      "cell_type": "code",
      "source": [
        "import pandas as pd\n",
        "\n",
        "URL = input(\"パスを入力してください。\")\n",
        "df = pd.read_csv(URL)"
      ],
      "metadata": {
        "colab": {
          "base_uri": "https://localhost:8080/"
        },
        "id": "CcIkMdKZ-MuZ",
        "outputId": "7fd8ba79-0657-4631-84c5-2bb253a35324"
      },
      "execution_count": null,
      "outputs": [
        {
          "name": "stdout",
          "output_type": "stream",
          "text": [
            "パスを入力してください。/content/drive/MyDrive/Colab Notebooks/Nishika中古マンション/train.csv\n"
          ]
        },
        {
          "output_type": "stream",
          "name": "stderr",
          "text": [
            "/usr/local/lib/python3.7/dist-packages/IPython/core/interactiveshell.py:2882: DtypeWarning: Columns (11) have mixed types.Specify dtype option on import or set low_memory=False.\n",
            "  exec(code_obj, self.user_global_ns, self.user_ns)\n"
          ]
        }
      ]
    },
    {
      "cell_type": "code",
      "source": [
        "df.head(3)"
      ],
      "metadata": {
        "colab": {
          "base_uri": "https://localhost:8080/",
          "height": 671
        },
        "id": "hhCZRbGwIokA",
        "outputId": "c441cbf9-2bdc-4c07-dea7-4a6896701e2b"
      },
      "execution_count": null,
      "outputs": [
        {
          "output_type": "execute_result",
          "data": {
            "text/plain": [
              "   Unnamed: 0       ID        種類  地域  市区町村コード 都道府県名   市区町村名    地区名  最寄駅：名称  \\\n",
              "0           0  1000809  中古マンション等 NaN     1101   北海道  札幌市中央区   北１条西   西１８丁目   \n",
              "1           1  1108719  中古マンション等 NaN     1206   北海道     釧路市    浪花町      釧路   \n",
              "2           2  1028203  中古マンション等 NaN     1103   北海道   札幌市東区  北４４条東  栄町(札幌)   \n",
              "\n",
              "  最寄駅：距離（分）  ... 前面道路：方位 前面道路：種類  前面道路：幅員（ｍ）     都市計画  建ぺい率（％） 容積率（％）  \\\n",
              "0         5  ...     NaN     NaN         NaN     商業地域     80.0  400.0   \n",
              "1        10  ...     NaN     NaN         NaN  第１種住居地域     60.0  200.0   \n",
              "2         5  ...     NaN     NaN         NaN  第１種住居地域     60.0  200.0   \n",
              "\n",
              "         取引時点   改装 取引の事情等  取引価格（総額）_log  \n",
              "0  2019年第3四半期  改装済    NaN      6.963788  \n",
              "1  2013年第1四半期  未改装    NaN      7.000000  \n",
              "2  2019年第4四半期  改装済    NaN      7.301030  \n",
              "\n",
              "[3 rows x 29 columns]"
            ],
            "text/html": [
              "\n",
              "  <div id=\"df-3801d5a9-b2c8-46f6-a27d-0a5c843a5bbe\">\n",
              "    <div class=\"colab-df-container\">\n",
              "      <div>\n",
              "<style scoped>\n",
              "    .dataframe tbody tr th:only-of-type {\n",
              "        vertical-align: middle;\n",
              "    }\n",
              "\n",
              "    .dataframe tbody tr th {\n",
              "        vertical-align: top;\n",
              "    }\n",
              "\n",
              "    .dataframe thead th {\n",
              "        text-align: right;\n",
              "    }\n",
              "</style>\n",
              "<table border=\"1\" class=\"dataframe\">\n",
              "  <thead>\n",
              "    <tr style=\"text-align: right;\">\n",
              "      <th></th>\n",
              "      <th>Unnamed: 0</th>\n",
              "      <th>ID</th>\n",
              "      <th>種類</th>\n",
              "      <th>地域</th>\n",
              "      <th>市区町村コード</th>\n",
              "      <th>都道府県名</th>\n",
              "      <th>市区町村名</th>\n",
              "      <th>地区名</th>\n",
              "      <th>最寄駅：名称</th>\n",
              "      <th>最寄駅：距離（分）</th>\n",
              "      <th>...</th>\n",
              "      <th>前面道路：方位</th>\n",
              "      <th>前面道路：種類</th>\n",
              "      <th>前面道路：幅員（ｍ）</th>\n",
              "      <th>都市計画</th>\n",
              "      <th>建ぺい率（％）</th>\n",
              "      <th>容積率（％）</th>\n",
              "      <th>取引時点</th>\n",
              "      <th>改装</th>\n",
              "      <th>取引の事情等</th>\n",
              "      <th>取引価格（総額）_log</th>\n",
              "    </tr>\n",
              "  </thead>\n",
              "  <tbody>\n",
              "    <tr>\n",
              "      <th>0</th>\n",
              "      <td>0</td>\n",
              "      <td>1000809</td>\n",
              "      <td>中古マンション等</td>\n",
              "      <td>NaN</td>\n",
              "      <td>1101</td>\n",
              "      <td>北海道</td>\n",
              "      <td>札幌市中央区</td>\n",
              "      <td>北１条西</td>\n",
              "      <td>西１８丁目</td>\n",
              "      <td>5</td>\n",
              "      <td>...</td>\n",
              "      <td>NaN</td>\n",
              "      <td>NaN</td>\n",
              "      <td>NaN</td>\n",
              "      <td>商業地域</td>\n",
              "      <td>80.0</td>\n",
              "      <td>400.0</td>\n",
              "      <td>2019年第3四半期</td>\n",
              "      <td>改装済</td>\n",
              "      <td>NaN</td>\n",
              "      <td>6.963788</td>\n",
              "    </tr>\n",
              "    <tr>\n",
              "      <th>1</th>\n",
              "      <td>1</td>\n",
              "      <td>1108719</td>\n",
              "      <td>中古マンション等</td>\n",
              "      <td>NaN</td>\n",
              "      <td>1206</td>\n",
              "      <td>北海道</td>\n",
              "      <td>釧路市</td>\n",
              "      <td>浪花町</td>\n",
              "      <td>釧路</td>\n",
              "      <td>10</td>\n",
              "      <td>...</td>\n",
              "      <td>NaN</td>\n",
              "      <td>NaN</td>\n",
              "      <td>NaN</td>\n",
              "      <td>第１種住居地域</td>\n",
              "      <td>60.0</td>\n",
              "      <td>200.0</td>\n",
              "      <td>2013年第1四半期</td>\n",
              "      <td>未改装</td>\n",
              "      <td>NaN</td>\n",
              "      <td>7.000000</td>\n",
              "    </tr>\n",
              "    <tr>\n",
              "      <th>2</th>\n",
              "      <td>2</td>\n",
              "      <td>1028203</td>\n",
              "      <td>中古マンション等</td>\n",
              "      <td>NaN</td>\n",
              "      <td>1103</td>\n",
              "      <td>北海道</td>\n",
              "      <td>札幌市東区</td>\n",
              "      <td>北４４条東</td>\n",
              "      <td>栄町(札幌)</td>\n",
              "      <td>5</td>\n",
              "      <td>...</td>\n",
              "      <td>NaN</td>\n",
              "      <td>NaN</td>\n",
              "      <td>NaN</td>\n",
              "      <td>第１種住居地域</td>\n",
              "      <td>60.0</td>\n",
              "      <td>200.0</td>\n",
              "      <td>2019年第4四半期</td>\n",
              "      <td>改装済</td>\n",
              "      <td>NaN</td>\n",
              "      <td>7.301030</td>\n",
              "    </tr>\n",
              "  </tbody>\n",
              "</table>\n",
              "<p>3 rows × 29 columns</p>\n",
              "</div>\n",
              "      <button class=\"colab-df-convert\" onclick=\"convertToInteractive('df-3801d5a9-b2c8-46f6-a27d-0a5c843a5bbe')\"\n",
              "              title=\"Convert this dataframe to an interactive table.\"\n",
              "              style=\"display:none;\">\n",
              "        \n",
              "  <svg xmlns=\"http://www.w3.org/2000/svg\" height=\"24px\"viewBox=\"0 0 24 24\"\n",
              "       width=\"24px\">\n",
              "    <path d=\"M0 0h24v24H0V0z\" fill=\"none\"/>\n",
              "    <path d=\"M18.56 5.44l.94 2.06.94-2.06 2.06-.94-2.06-.94-.94-2.06-.94 2.06-2.06.94zm-11 1L8.5 8.5l.94-2.06 2.06-.94-2.06-.94L8.5 2.5l-.94 2.06-2.06.94zm10 10l.94 2.06.94-2.06 2.06-.94-2.06-.94-.94-2.06-.94 2.06-2.06.94z\"/><path d=\"M17.41 7.96l-1.37-1.37c-.4-.4-.92-.59-1.43-.59-.52 0-1.04.2-1.43.59L10.3 9.45l-7.72 7.72c-.78.78-.78 2.05 0 2.83L4 21.41c.39.39.9.59 1.41.59.51 0 1.02-.2 1.41-.59l7.78-7.78 2.81-2.81c.8-.78.8-2.07 0-2.86zM5.41 20L4 18.59l7.72-7.72 1.47 1.35L5.41 20z\"/>\n",
              "  </svg>\n",
              "      </button>\n",
              "      \n",
              "  <style>\n",
              "    .colab-df-container {\n",
              "      display:flex;\n",
              "      flex-wrap:wrap;\n",
              "      gap: 12px;\n",
              "    }\n",
              "\n",
              "    .colab-df-convert {\n",
              "      background-color: #E8F0FE;\n",
              "      border: none;\n",
              "      border-radius: 50%;\n",
              "      cursor: pointer;\n",
              "      display: none;\n",
              "      fill: #1967D2;\n",
              "      height: 32px;\n",
              "      padding: 0 0 0 0;\n",
              "      width: 32px;\n",
              "    }\n",
              "\n",
              "    .colab-df-convert:hover {\n",
              "      background-color: #E2EBFA;\n",
              "      box-shadow: 0px 1px 2px rgba(60, 64, 67, 0.3), 0px 1px 3px 1px rgba(60, 64, 67, 0.15);\n",
              "      fill: #174EA6;\n",
              "    }\n",
              "\n",
              "    [theme=dark] .colab-df-convert {\n",
              "      background-color: #3B4455;\n",
              "      fill: #D2E3FC;\n",
              "    }\n",
              "\n",
              "    [theme=dark] .colab-df-convert:hover {\n",
              "      background-color: #434B5C;\n",
              "      box-shadow: 0px 1px 3px 1px rgba(0, 0, 0, 0.15);\n",
              "      filter: drop-shadow(0px 1px 2px rgba(0, 0, 0, 0.3));\n",
              "      fill: #FFFFFF;\n",
              "    }\n",
              "  </style>\n",
              "\n",
              "      <script>\n",
              "        const buttonEl =\n",
              "          document.querySelector('#df-3801d5a9-b2c8-46f6-a27d-0a5c843a5bbe button.colab-df-convert');\n",
              "        buttonEl.style.display =\n",
              "          google.colab.kernel.accessAllowed ? 'block' : 'none';\n",
              "\n",
              "        async function convertToInteractive(key) {\n",
              "          const element = document.querySelector('#df-3801d5a9-b2c8-46f6-a27d-0a5c843a5bbe');\n",
              "          const dataTable =\n",
              "            await google.colab.kernel.invokeFunction('convertToInteractive',\n",
              "                                                     [key], {});\n",
              "          if (!dataTable) return;\n",
              "\n",
              "          const docLinkHtml = 'Like what you see? Visit the ' +\n",
              "            '<a target=\"_blank\" href=https://colab.research.google.com/notebooks/data_table.ipynb>data table notebook</a>'\n",
              "            + ' to learn more about interactive tables.';\n",
              "          element.innerHTML = '';\n",
              "          dataTable['output_type'] = 'display_data';\n",
              "          await google.colab.output.renderOutput(dataTable, element);\n",
              "          const docLink = document.createElement('div');\n",
              "          docLink.innerHTML = docLinkHtml;\n",
              "          element.appendChild(docLink);\n",
              "        }\n",
              "      </script>\n",
              "    </div>\n",
              "  </div>\n",
              "  "
            ]
          },
          "metadata": {},
          "execution_count": 3
        }
      ]
    },
    {
      "cell_type": "markdown",
      "source": [
        "# まずはシンプルに処理出来るものから。例えば、時間で大半のデータは数字だが、一部（30～60分）のように数字データになっていないものを修正する。"
      ],
      "metadata": {
        "id": "TbPnUapNnOjx"
      }
    },
    {
      "cell_type": "code",
      "source": [
        "col = df.columns\n",
        "for i in col:\n",
        "  print(i, df[i].dtype)"
      ],
      "metadata": {
        "colab": {
          "base_uri": "https://localhost:8080/"
        },
        "id": "yHF_-ZPYA7V1",
        "outputId": "9b8620a2-03f8-4cf4-9ea3-4f54e234c453"
      },
      "execution_count": null,
      "outputs": [
        {
          "output_type": "stream",
          "name": "stdout",
          "text": [
            "Unnamed: 0 int64\n",
            "ID int64\n",
            "種類 object\n",
            "地域 float64\n",
            "市区町村コード int64\n",
            "都道府県名 object\n",
            "市区町村名 object\n",
            "地区名 object\n",
            "最寄駅：名称 object\n",
            "最寄駅：距離（分） object\n",
            "間取り object\n",
            "面積（㎡） object\n",
            "土地の形状 float64\n",
            "間口 float64\n",
            "延床面積（㎡） float64\n",
            "建築年 object\n",
            "建物の構造 object\n",
            "用途 object\n",
            "今後の利用目的 object\n",
            "前面道路：方位 float64\n",
            "前面道路：種類 float64\n",
            "前面道路：幅員（ｍ） float64\n",
            "都市計画 object\n",
            "建ぺい率（％） float64\n",
            "容積率（％） float64\n",
            "取引時点 object\n",
            "改装 object\n",
            "取引の事情等 object\n",
            "取引価格（総額）_log float64\n"
          ]
        }
      ]
    },
    {
      "cell_type": "code",
      "source": [
        "number_type=[]\n",
        "object_type= []\n",
        "\n",
        "for i in col:\n",
        "  if df[i].dtype in [\"int64\",\"float64\"]:\n",
        "    number_type.append(i)\n",
        "  else:\n",
        "    object_type.append(i)\n",
        "\n",
        "print(\"定量データ:\",number_type)\n",
        "print(\"定性データ:\",object_type)"
      ],
      "metadata": {
        "colab": {
          "base_uri": "https://localhost:8080/"
        },
        "id": "yyCG1-lLBMDo",
        "outputId": "227414d8-3ba0-49e5-ecf4-2e2f896bdad3"
      },
      "execution_count": null,
      "outputs": [
        {
          "output_type": "stream",
          "name": "stdout",
          "text": [
            "定量データ: ['Unnamed: 0', 'ID', '地域', '市区町村コード', '土地の形状', '間口', '延床面積（㎡）', '前面道路：方位', '前面道路：種類', '前面道路：幅員（ｍ）', '建ぺい率（％）', '容積率（％）', '取引価格（総額）_log']\n",
            "定性データ: ['種類', '都道府県名', '市区町村名', '地区名', '最寄駅：名称', '最寄駅：距離（分）', '間取り', '面積（㎡）', '建築年', '建物の構造', '用途', '今後の利用目的', '都市計画', '取引時点', '改装', '取引の事情等']\n"
          ]
        }
      ]
    },
    {
      "cell_type": "code",
      "source": [
        "print(\"ユニークな文字列は、、、\")\n",
        "modify_type = []\n",
        "for o in object_type:\n",
        "    t = 0\n",
        "    for i in df[o].unique():\n",
        "      try:\n",
        "        i = int(i)\n",
        "      except:\n",
        "        t +=1\n",
        "        \n",
        "    print(o,\":\",t)\n",
        "    if  t/len(df[o].unique()) <1:\n",
        "      modify_type.append(o)\n",
        "      print(df[o].unique())"
      ],
      "metadata": {
        "colab": {
          "base_uri": "https://localhost:8080/"
        },
        "id": "txc3dJ-KDwIf",
        "outputId": "b5dd5515-2140-49e3-d2a8-28fce5171cdb"
      },
      "execution_count": null,
      "outputs": [
        {
          "output_type": "stream",
          "name": "stdout",
          "text": [
            "ユニークな文字列は、、、\n",
            "種類 : 1\n",
            "都道府県名 : 47\n",
            "市区町村名 : 619\n",
            "地区名 : 12186\n",
            "最寄駅：名称 : 3874\n",
            "最寄駅：距離（分） : 5\n",
            "['5' '10' '4' '3' '6' '9' '8' '18' '30分?60分' '1' '13' '2' '23' '2H?' nan\n",
            " '29' '7' '11' '15' '12' '19' '20' '16' '25' '0' '14' '28' '24' '27'\n",
            " '1H?1H30' '21' '17' '26' '22' '1H30?2H']\n",
            "間取り : 65\n",
            "面積（㎡） : 1\n",
            "['85' '70' '20' '60' '55' '90' '75' '95' '115' '65' '105' '50' '45' '210'\n",
            " '25' '80' '100' '260' '35' '30' '110' '15' '40' '135' '130' '125' '120'\n",
            " '170' '150' '145' '155' '140' '160' '220' '190' '10' '165' '185' '180'\n",
            " '360' '250' '710' '200' '300' '2000㎡以上' '530' '450' '490' 65 90 55 70 20\n",
            " 30 75 60 25 50 35 100 45 85 80 40 95 15 110 105 10 155 145 125 115 120\n",
            " 470 300 150 140 165 160 250 135 130 600 970 440 390 175 740 460 195 270\n",
            " 290 420 240 190 170 360 320 210 220 1000 185 230 180 580 490 330 860 200\n",
            " 260 310 500 340 '630' '1300' '290' '690' '195' '280' '175' '330' '440'\n",
            " '340' '310' '500' '240' '590' '370' '1500' '380' '230' 990 410 350 720\n",
            " 280 450 890 380 480 560 630 620 1500 400 870 820 370 430 680 1200 770 730\n",
            " 520 710 700 1400 940 590 780 850 900 550 660 1100 960 540 690 650 760 670\n",
            " 790 '680' '730' '350' '610' '780' '650' '410' '660' '620' '320' '760'\n",
            " '830' '670' '270' 800 950 '480' '390' '1000' '460' '510' '520' '560' 510\n",
            " '550' '400' '740' '470' '980' '820' '570']\n",
            "建築年 : 79\n",
            "建物の構造 : 13\n",
            "用途 : 23\n",
            "今後の利用目的 : 5\n",
            "都市計画 : 17\n",
            "取引時点 : 64\n",
            "改装 : 3\n",
            "取引の事情等 : 10\n"
          ]
        }
      ]
    },
    {
      "cell_type": "code",
      "source": [
        "modify_type"
      ],
      "metadata": {
        "colab": {
          "base_uri": "https://localhost:8080/"
        },
        "id": "M96wDTZj_m0g",
        "outputId": "5339f017-097c-4ef1-f0a3-cc500ec790e9"
      },
      "execution_count": null,
      "outputs": [
        {
          "output_type": "execute_result",
          "data": {
            "text/plain": [
              "['最寄駅：距離（分）', '面積（㎡）']"
            ]
          },
          "metadata": {},
          "execution_count": 8
        }
      ]
    },
    {
      "cell_type": "code",
      "source": [
        "for o in modify_type:\n",
        "    print(o, \"はユニークが\",df[o].unique(), \"となっております。\")\n",
        "    for i in df[o].unique():\n",
        "      try:\n",
        "        i = int(i)\n",
        "      except:\n",
        "        print(i,\"が文字列になっています。\")\n",
        "        mo = input(\"何に修正しますか？\") \n",
        "        df[o] = df[o].replace(i,mo)\n",
        "    df[o] = df[o].apply(lambda x:int(x))"
      ],
      "metadata": {
        "colab": {
          "base_uri": "https://localhost:8080/"
        },
        "id": "75MIonO1KMYe",
        "outputId": "ede9713f-b6c4-4661-b234-db1452e9f82d"
      },
      "execution_count": null,
      "outputs": [
        {
          "name": "stdout",
          "output_type": "stream",
          "text": [
            "最寄駅：距離（分） はユニークが ['5' '10' '4' '3' '6' '9' '8' '18' '30分?60分' '1' '13' '2' '23' '2H?' nan\n",
            " '29' '7' '11' '15' '12' '19' '20' '16' '25' '0' '14' '28' '24' '27'\n",
            " '1H?1H30' '21' '17' '26' '22' '1H30?2H'] となっております。\n",
            "30分?60分 が文字列になっています。\n",
            "何に修正しますか？75\n",
            "2H? が文字列になっています。\n",
            "何に修正しますか？120\n",
            "nan が文字列になっています。\n",
            "何に修正しますか？0\n",
            "1H?1H30 が文字列になっています。\n",
            "何に修正しますか？105\n",
            "1H30?2H が文字列になっています。\n",
            "何に修正しますか？105\n",
            "面積（㎡） はユニークが ['85' '70' '20' '60' '55' '90' '75' '95' '115' '65' '105' '50' '45' '210'\n",
            " '25' '80' '100' '260' '35' '30' '110' '15' '40' '135' '130' '125' '120'\n",
            " '170' '150' '145' '155' '140' '160' '220' '190' '10' '165' '185' '180'\n",
            " '360' '250' '710' '200' '300' '2000㎡以上' '530' '450' '490' 65 90 55 70 20\n",
            " 30 75 60 25 50 35 100 45 85 80 40 95 15 110 105 10 155 145 125 115 120\n",
            " 470 300 150 140 165 160 250 135 130 600 970 440 390 175 740 460 195 270\n",
            " 290 420 240 190 170 360 320 210 220 1000 185 230 180 580 490 330 860 200\n",
            " 260 310 500 340 '630' '1300' '290' '690' '195' '280' '175' '330' '440'\n",
            " '340' '310' '500' '240' '590' '370' '1500' '380' '230' 990 410 350 720\n",
            " 280 450 890 380 480 560 630 620 1500 400 870 820 370 430 680 1200 770 730\n",
            " 520 710 700 1400 940 590 780 850 900 550 660 1100 960 540 690 650 760 670\n",
            " 790 '680' '730' '350' '610' '780' '650' '410' '660' '620' '320' '760'\n",
            " '830' '670' '270' 800 950 '480' '390' '1000' '460' '510' '520' '560' 510\n",
            " '550' '400' '740' '470' '980' '820' '570'] となっております。\n",
            "2000㎡以上 が文字列になっています。\n",
            "何に修正しますか？2000\n"
          ]
        }
      ]
    },
    {
      "cell_type": "code",
      "source": [
        "print(\"前処理の結果、\")\n",
        "for o in modify_type:\n",
        "  print(o,\"は\")\n",
        "  print(sorted(df[o].unique()))\n",
        "  print(\"となりました。\")"
      ],
      "metadata": {
        "colab": {
          "base_uri": "https://localhost:8080/"
        },
        "id": "iw57gYQlLAxP",
        "outputId": "48315ef4-d96e-4c77-bf2f-16e2dbefeb30"
      },
      "execution_count": null,
      "outputs": [
        {
          "output_type": "stream",
          "name": "stdout",
          "text": [
            "前処理の結果、\n",
            "最寄駅：距離（分） は\n",
            "[0, 1, 2, 3, 4, 5, 6, 7, 8, 9, 10, 11, 12, 13, 14, 15, 16, 17, 18, 19, 20, 21, 22, 23, 24, 25, 26, 27, 28, 29, 75, 105, 120]\n",
            "となりました。\n",
            "面積（㎡） は\n",
            "[10, 15, 20, 25, 30, 35, 40, 45, 50, 55, 60, 65, 70, 75, 80, 85, 90, 95, 100, 105, 110, 115, 120, 125, 130, 135, 140, 145, 150, 155, 160, 165, 170, 175, 180, 185, 190, 195, 200, 210, 220, 230, 240, 250, 260, 270, 280, 290, 300, 310, 320, 330, 340, 350, 360, 370, 380, 390, 400, 410, 420, 430, 440, 450, 460, 470, 480, 490, 500, 510, 520, 530, 540, 550, 560, 570, 580, 590, 600, 610, 620, 630, 650, 660, 670, 680, 690, 700, 710, 720, 730, 740, 760, 770, 780, 790, 800, 820, 830, 850, 860, 870, 890, 900, 940, 950, 960, 970, 980, 990, 1000, 1100, 1200, 1300, 1400, 1500, 2000]\n",
            "となりました。\n"
          ]
        }
      ]
    },
    {
      "cell_type": "markdown",
      "source": [
        "# 次に少し面倒なファイルを"
      ],
      "metadata": {
        "id": "2t1QHiXbn49T"
      }
    },
    {
      "cell_type": "markdown",
      "source": [
        "# 最後に今の時間をファイル名に加えてcsvファイルに保存する。"
      ],
      "metadata": {
        "id": "AUyV_jjvnzGL"
      }
    },
    {
      "cell_type": "code",
      "source": [
        "import datetime\n",
        "d =datetime.datetime.now(datetime.timezone(datetime.timedelta(hours=9), 'JST')).strftime('%Y%m%d%H%M')\n",
        "URL = URL.replace('.csv', d + 'csv')\n",
        "df.to_csv(URL, index=False)"
      ],
      "metadata": {
        "id": "ZBbLetK6kO50"
      },
      "execution_count": null,
      "outputs": []
    },
    {
      "cell_type": "code",
      "source": [
        ""
      ],
      "metadata": {
        "id": "F3_Ng1htmA9A"
      },
      "execution_count": null,
      "outputs": []
    }
  ]
}